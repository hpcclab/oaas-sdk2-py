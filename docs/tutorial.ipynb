{
 "cells": [
  {
   "cell_type": "markdown",
   "id": "f78bae79",
   "metadata": {},
   "source": [
    "# OaaS SDK Tutorial (Runnable)\n",
    "\n",
    "This notebook demonstrates the simplified OaaS SDK using mock mode so it runs locally without external services. We use top-level `await` in code cells for async calls.\n",
    "\n",
    "It also showcases accessor decorators like `@oaas.getter` for direct, persisted reads of typed fields.\n"
   ]
  },
  {
   "cell_type": "code",
   "execution_count": 2,
   "id": "655aad96",
   "metadata": {},
   "outputs": [
    {
     "name": "stdout",
     "output_type": "stream",
     "text": [
      "OaaS tutorial environment ready: SDK imported.\n"
     ]
    }
   ],
   "source": [
    "# Core imports\n",
    "from oaas_sdk2_py import oaas, OaasObject, OaasConfig\n",
    "from pydantic import BaseModel\n",
    "from typing import Dict, List, Any\n",
    "\n",
    "print(\"OaaS tutorial environment ready: SDK imported.\")\n"
   ]
  },
  {
   "cell_type": "code",
   "execution_count": 3,
   "id": "febff457",
   "metadata": {},
   "outputs": [
    {
     "name": "stdout",
     "output_type": "stream",
     "text": [
      "Health: {'healthy': True, 'issues': [], 'warnings': ['Global Oparaca instance not initialized', 'AutoSessionManager not initialized', 'No services registered'], 'info': []}\n"
     ]
    }
   ],
   "source": [
    "# Configure OaaS for local/mock mode (no external services)\n",
    "config = OaasConfig(\n",
    "    async_mode=True,\n",
    "    mock_mode=True,\n",
    "    oprc_partition_default=0,\n",
    "    auto_commit=True,\n",
    ")\n",
    "oaas.configure(config)\n",
    "\n",
    "# Quick health check\n",
    "health = oaas.health_check()\n",
    "print(\"Health:\", health)\n"
   ]
  },
  {
   "cell_type": "markdown",
   "id": "4234ffe1",
   "metadata": {},
   "source": [
    "## Define a Service\n",
    "\n",
    "We define a `Counter` service with persistent fields. Typed attributes automatically persist via the SDK's state descriptor system.\n"
   ]
  },
  {
   "cell_type": "code",
   "execution_count": 4,
   "id": "6450a393",
   "metadata": {},
   "outputs": [],
   "source": [
    "# Request model\n",
    "class IncrementRequest(BaseModel):\n",
    "    amount: int = 1\n",
    "\n",
    "# Define service\n",
    "@oaas.service(\"Counter\", package=\"example\")\n",
    "class Counter(OaasObject):\n",
    "    count: int = 0\n",
    "    history: List[str] = []\n",
    "\n",
    "    @oaas.method()\n",
    "    async def increment(self, req: IncrementRequest) -> int:\n",
    "        self.count += req.amount\n",
    "        self.history.append(f\"Incremented by {req.amount}\")\n",
    "        return self.count\n",
    "\n",
    "    # Accessors: direct reads of persisted fields\n",
    "    @oaas.getter(\"count\")\n",
    "    async def get_value(self) -> int:\n",
    "        ...\n",
    "\n",
    "    @oaas.getter(\"history\")\n",
    "    async def get_history(self) -> List[str]:\n",
    "        ...\n",
    "\n",
    "    @oaas.method()\n",
    "    async def reset(self) -> bool:\n",
    "        self.count = 0\n",
    "        self.history.clear()\n",
    "        return True\n"
   ]
  },
  {
   "cell_type": "markdown",
   "id": "2b7f0c62",
   "metadata": {},
   "source": [
    "## Create a Local Object\n",
    "\n",
    "For testing, we create a local instance of the `Counter` service. This avoids any external server or agent dependencies.\n"
   ]
  },
  {
   "cell_type": "code",
   "execution_count": 5,
   "id": "86e28efe",
   "metadata": {},
   "outputs": [
    {
     "name": "stdout",
     "output_type": "stream",
     "text": [
      "Created Counter\n",
      "object_id: 749371763701246783\n"
     ]
    }
   ],
   "source": [
    "# Create a object for testing\n",
    "counter = Counter.create()\n",
    "print(\"Created Counter\")\n",
    "print(\"object_id:\", getattr(counter, \"object_id\", None))\n"
   ]
  },
  {
   "cell_type": "markdown",
   "id": "b8b71992",
   "metadata": {},
   "source": [
    "## Run Method Calls\n",
    "\n",
    "Now we'll invoke a few methods using `await` and print the results and state. The SDK handles serialization automatically.\n"
   ]
  },
  {
   "cell_type": "code",
   "execution_count": 6,
   "id": "fb43f460",
   "metadata": {},
   "outputs": [
    {
     "name": "stdout",
     "output_type": "stream",
     "text": [
      "increment -> 5\n",
      "get_value -> 5\n",
      "get_history -> ['Incremented by 5']\n",
      "reset -> True\n",
      "after reset get_value -> 0\n"
     ]
    }
   ],
   "source": [
    "# Invoke methods with await\n",
    "val = await counter.increment(IncrementRequest(amount=5))\n",
    "print(\"increment ->\", val)\n",
    "\n",
    "cur = await counter.get_value()\n",
    "print(\"get_value ->\", cur)\n",
    "\n",
    "hist = await counter.get_history()\n",
    "print(\"get_history ->\", hist)\n",
    "\n",
    "ok = await counter.reset()\n",
    "print(\"reset ->\", ok)\n",
    "\n",
    "cur2 = await counter.get_value()\n",
    "print(\"after reset get_value ->\", cur2)\n"
   ]
  },
  {
   "cell_type": "markdown",
   "id": "b4ce2a51",
   "metadata": {},
   "source": [
    "## Advanced Service: More Methods and Types\n",
    "\n",
    "We'll add a richer service that demonstrates:\n",
    "- Returning multiple types (bool, str, bytes, dict, Pydantic model)\n",
    "- Aggregated metadata\n",
    "- Batch operations\n",
    "- Reset and status helpers\n",
    "\n",
    "Still using mock mode for local runs."
   ]
  },
  {
   "cell_type": "code",
   "execution_count": 7,
   "id": "c98cc1e5",
   "metadata": {},
   "outputs": [
    {
     "name": "stderr",
     "output_type": "stream",
     "text": [
      "INFO:oaas_sdk:Service CounterPlus successfully registered\n"
     ]
    }
   ],
   "source": [
    "# Extra models and a richer service\n",
    "from pydantic import BaseModel\n",
    "from typing import Dict, List, Any\n",
    "\n",
    "class SetValueRequest(BaseModel):\n",
    "    value: int\n",
    "\n",
    "class CounterInfo(BaseModel):\n",
    "    value: int\n",
    "    operations: int\n",
    "    last_op: str | None\n",
    "\n",
    "@oaas.service(\"CounterPlus\", package=\"example\")\n",
    "class CounterPlus(OaasObject):\n",
    "    count: int = 0\n",
    "    history: List[str] = []\n",
    "    metadata: Dict[str, Any] = {}\n",
    "\n",
    "    @oaas.method()\n",
    "    async def set_value(self, req: SetValueRequest) -> int:\n",
    "        self.count = int(req.value)\n",
    "        self.history.append(f\"Set to {req.value}\")\n",
    "        return self.count\n",
    "\n",
    "    @oaas.method()\n",
    "    async def batch_increment(self, amounts: List[int]) -> List[int]:\n",
    "        out: List[int] = []\n",
    "        for a in amounts:\n",
    "            self.count += a\n",
    "            self.history.append(f\"+{a}\")\n",
    "            out.append(self.count)\n",
    "        return out\n",
    "\n",
    "    @oaas.method()\n",
    "    async def get_info(self) -> CounterInfo:\n",
    "        return CounterInfo(value=self.count, operations=len(self.history), last_op=(self.history[-1] if self.history else None))\n",
    "\n",
    "    @oaas.method()\n",
    "    async def as_bytes(self) -> bytes:\n",
    "        return str(self.count).encode()\n",
    "\n",
    "    @oaas.method()\n",
    "    async def is_positive(self) -> bool:\n",
    "        return self.count > 0\n",
    "\n",
    "    @oaas.method()\n",
    "    async def get_status(self) -> str:\n",
    "        return \"positive\" if self.count > 0 else (\"zero\" if self.count == 0 else \"negative\")\n",
    "\n",
    "    @oaas.method()\n",
    "    async def reset(self) -> bool:\n",
    "        self.count = 0\n",
    "        self.history.clear()\n",
    "        self.metadata.clear()\n",
    "        return True"
   ]
  },
  {
   "cell_type": "markdown",
   "id": "ea044bf4",
   "metadata": {},
   "source": [
    "### Try CounterPlus locally\n",
    "\n",
    "We'll create a local object and exercise a few methods:\n",
    "- set_value\n",
    "- batch_increment\n",
    "- get_info, is_positive, get_status\n",
    "- as_bytes, reset"
   ]
  },
  {
   "cell_type": "code",
   "execution_count": 8,
   "id": "c8d281b6",
   "metadata": {},
   "outputs": [
    {
     "name": "stdout",
     "output_type": "stream",
     "text": [
      "Created CounterPlus\n",
      "set_value -> 3\n",
      "batch_increment -> [5, 10, 6]\n",
      "get_info -> value=6 operations=4 last_op='+-4'\n",
      "is_positive -> True\n",
      "get_status -> positive\n",
      "as_bytes -> b'6'\n",
      "after reset get_info -> value=0 operations=0 last_op=None\n"
     ]
    }
   ],
   "source": [
    "# Create and exercise CounterPlus\n",
    "cp = CounterPlus.create()\n",
    "print(\"Created CounterPlus\")\n",
    "\n",
    "print(\"set_value ->\", await cp.set_value(SetValueRequest(value=3)))\n",
    "print(\"batch_increment ->\", await cp.batch_increment([2, 5, -4]))\n",
    "\n",
    "info = await cp.get_info()\n",
    "print(\"get_info ->\", info)\n",
    "print(\"is_positive ->\", await cp.is_positive())\n",
    "print(\"get_status ->\", await cp.get_status())\n",
    "print(\"as_bytes ->\", await cp.as_bytes())\n",
    "\n",
    "await cp.reset()\n",
    "print(\"after reset get_info ->\", await cp.get_info())"
   ]
  },
  {
   "cell_type": "markdown",
   "id": "020e8132",
   "metadata": {},
   "source": [
    "## Type System Quick Tour\n",
    "\n",
    "Methods can return primitives, collections, bytes, and Pydantic models. We'll define a small service that returns various types so you can see serialization in action."
   ]
  },
  {
   "cell_type": "code",
   "execution_count": 9,
   "id": "38694c31",
   "metadata": {},
   "outputs": [
    {
     "name": "stderr",
     "output_type": "stream",
     "text": [
      "INFO:oaas_sdk:Service DataTypesDemo successfully registered\n"
     ]
    }
   ],
   "source": [
    "# A service demonstrating multiple return types\n",
    "class DemoModel(BaseModel):\n",
    "    id: int\n",
    "    name: str\n",
    "\n",
    "@oaas.service(\"DataTypesDemo\", package=\"example\")\n",
    "class DataTypesDemo(OaasObject):\n",
    "    iv: int = 42\n",
    "\n",
    "    @oaas.method()\n",
    "    async def return_int(self) -> int:\n",
    "        return self.iv\n",
    "\n",
    "    @oaas.method()\n",
    "    async def return_float(self) -> float:\n",
    "        return 3.1415\n",
    "\n",
    "    @oaas.method()\n",
    "    async def return_bool(self) -> bool:\n",
    "        return True\n",
    "\n",
    "    @oaas.method()\n",
    "    async def return_str(self) -> str:\n",
    "        return \"hello\"\n",
    "\n",
    "    @oaas.method()\n",
    "    async def return_list(self) -> List[int]:\n",
    "        return [1, 2, 3]\n",
    "\n",
    "    @oaas.method()\n",
    "    async def return_dict(self) -> Dict[str, Any]:\n",
    "        return {\"k\": \"v\", \"n\": 1}\n",
    "\n",
    "    @oaas.method()\n",
    "    async def return_bytes(self) -> bytes:\n",
    "        return b\"binary\"\n",
    "\n",
    "    @oaas.method()\n",
    "    async def return_model(self) -> DemoModel:\n",
    "        return DemoModel(id=1, name=\"demo\")"
   ]
  },
  {
   "cell_type": "code",
   "execution_count": 10,
   "id": "34d10eb3",
   "metadata": {},
   "outputs": [
    {
     "name": "stdout",
     "output_type": "stream",
     "text": [
      "Created DataTypesDemo\n",
      "int -> 42\n",
      "float -> 3.1415\n",
      "bool -> True\n",
      "str -> hello\n",
      "list -> [1, 2, 3]\n",
      "dict -> {'k': 'v', 'n': 1}\n",
      "bytes -> b'binary'\n",
      "model -> id=1 name='demo'\n"
     ]
    }
   ],
   "source": [
    "# Exercise DataTypesDemo\n",
    "demo = DataTypesDemo.create()\n",
    "print(\"Created DataTypesDemo\")\n",
    "print(\"int ->\", await demo.return_int())\n",
    "print(\"float ->\", await demo.return_float())\n",
    "print(\"bool ->\", await demo.return_bool())\n",
    "print(\"str ->\", await demo.return_str())\n",
    "print(\"list ->\", await demo.return_list())\n",
    "print(\"dict ->\", await demo.return_dict())\n",
    "print(\"bytes ->\", await demo.return_bytes())\n",
    "print(\"model ->\", await demo.return_model())"
   ]
  },
  {
   "cell_type": "markdown",
   "id": "dcc211a7",
   "metadata": {},
   "source": [
    "Note: Avoid using attribute names reserved by the SDK (e.g., `meta`). Prefer user-defined names like `metadata` to store custom state."
   ]
  }
 ],
 "metadata": {
  "kernelspec": {
   "display_name": "oaas-sdk2-py",
   "language": "python",
   "name": "python3"
  },
  "language_info": {
   "codemirror_mode": {
    "name": "ipython",
    "version": 3
   },
   "file_extension": ".py",
   "mimetype": "text/x-python",
   "name": "python",
   "nbconvert_exporter": "python",
   "pygments_lexer": "ipython3",
   "version": "3.13.6"
  }
 },
 "nbformat": 4,
 "nbformat_minor": 5
}
