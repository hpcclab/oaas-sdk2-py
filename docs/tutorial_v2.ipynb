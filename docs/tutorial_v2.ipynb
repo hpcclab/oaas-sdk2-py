{
 "cells": [
  {
   "cell_type": "markdown",
   "id": "f78bae79",
   "metadata": {},
   "source": [
    "# OaaS SDK Tutorial (Runnable)\n",
    "\n",
    "This notebook demonstrates the simplified OaaS SDK using mock mode so it runs locally without external services. We use top-level `await` in code cells for async calls.\n"
   ]
  },
  {
   "cell_type": "code",
   "execution_count": 1,
   "id": "655aad96",
   "metadata": {},
   "outputs": [
    {
     "name": "stdout",
     "output_type": "stream",
     "text": [
      "OaaS tutorial environment ready: SDK imported.\n"
     ]
    }
   ],
   "source": [
    "# Core imports\n",
    "from oaas_sdk2_py import oaas, OaasObject, OaasConfig\n",
    "from pydantic import BaseModel\n",
    "from typing import Dict, List, Any\n",
    "\n",
    "print(\"OaaS tutorial environment ready: SDK imported.\")\n"
   ]
  },
  {
   "cell_type": "code",
   "execution_count": 2,
   "id": "febff457",
   "metadata": {},
   "outputs": [
    {
     "name": "stdout",
     "output_type": "stream",
     "text": [
      "Health: {'healthy': True, 'issues': [], 'warnings': ['Global Oparaca instance not initialized', 'AutoSessionManager not initialized', 'No services registered'], 'info': []}\n"
     ]
    }
   ],
   "source": [
    "# Configure OaaS for local/mock mode (no external services)\n",
    "config = OaasConfig(\n",
    "    async_mode=True,\n",
    "    mock_mode=True,\n",
    "    oprc_partition_default=0,\n",
    "    auto_commit=True,\n",
    ")\n",
    "oaas.configure(config)\n",
    "\n",
    "# Quick health check\n",
    "health = oaas.health_check()\n",
    "print(\"Health:\", health)\n"
   ]
  },
  {
   "cell_type": "markdown",
   "id": "4234ffe1",
   "metadata": {},
   "source": [
    "## Define a Service\n",
    "\n",
    "We define a `Counter` service with persistent fields. Typed attributes automatically persist via the SDK's state descriptor system.\n"
   ]
  },
  {
   "cell_type": "code",
   "execution_count": null,
   "id": "6450a393",
   "metadata": {},
   "outputs": [
    {
     "name": "stderr",
     "output_type": "stream",
     "text": [
      "2025-08-27 07:21:03,291 - oaas_sdk - INFO - Service Counter successfully registered\n"
     ]
    }
   ],
   "source": [
    "# Request model\n",
    "class IncrementRequest(BaseModel):\n",
    "    amount: int = 1\n",
    "\n",
    "# Define service\n",
    "@oaas.service(\"Counter\", package=\"example\")\n",
    "class Counter(OaasObject):\n",
    "    count: int = 0\n",
    "    history: List[str] = []\n",
    "\n",
    "    @oaas.method()\n",
    "    async def increment(self, req: IncrementRequest) -> int:\n",
    "        self.count += req.amount\n",
    "        self.history.append(f\"Incremented by {req.amount}\")\n",
    "        return self.count\n",
    "\n",
    "    @oaas.method()\n",
    "    async def get_value(self) -> int:\n",
    "        return self.count\n",
    "\n",
    "    @oaas.method()\n",
    "    async def get_history(self) -> List[str]:\n",
    "        return self.history\n",
    "\n",
    "    @oaas.method()\n",
    "    async def reset(self) -> bool:\n",
    "        self.count = 0\n",
    "        self.history.clear()\n",
    "        return True\n"
   ]
  },
  {
   "cell_type": "markdown",
   "id": "2b7f0c62",
   "metadata": {},
   "source": [
    "## Create a Local Object\n",
    "\n",
    "For testing, we create a local instance of the `Counter` service. This avoids any external server or agent dependencies.\n"
   ]
  },
  {
   "cell_type": "code",
   "execution_count": null,
   "id": "86e28efe",
   "metadata": {},
   "outputs": [
    {
     "name": "stdout",
     "output_type": "stream",
     "text": [
      "Created Counter (local)\n",
      "object_id: 748442011473351867\n"
     ]
    }
   ],
   "source": [
    "# Create a object for testing\n",
    "counter = Counter.create()\n",
    "print(\"Created Counter\")\n",
    "print(\"object_id:\", getattr(counter, \"object_id\", None))\n"
   ]
  },
  {
   "cell_type": "markdown",
   "id": "b8b71992",
   "metadata": {},
   "source": [
    "## Run Method Calls\n",
    "\n",
    "Now we'll invoke a few methods using `await` and print the results and state. The SDK handles serialization automatically.\n"
   ]
  },
  {
   "cell_type": "code",
   "execution_count": 6,
   "id": "fb43f460",
   "metadata": {},
   "outputs": [
    {
     "name": "stdout",
     "output_type": "stream",
     "text": [
      "increment -> 5\n",
      "get_value -> 5\n",
      "get_history -> ['Incremented by 5']\n",
      "reset -> True\n",
      "after reset get_value -> 0\n"
     ]
    }
   ],
   "source": [
    "# Invoke methods with await\n",
    "val = await counter.increment(IncrementRequest(amount=5))\n",
    "print(\"increment ->\", val)\n",
    "\n",
    "cur = await counter.get_value()\n",
    "print(\"get_value ->\", cur)\n",
    "\n",
    "hist = await counter.get_history()\n",
    "print(\"get_history ->\", hist)\n",
    "\n",
    "ok = await counter.reset()\n",
    "print(\"reset ->\", ok)\n",
    "\n",
    "cur2 = await counter.get_value()\n",
    "print(\"after reset get_value ->\", cur2)\n"
   ]
  }
 ],
 "metadata": {
  "kernelspec": {
   "display_name": "oaas-sdk2-py",
   "language": "python",
   "name": "python3"
  },
  "language_info": {
   "codemirror_mode": {
    "name": "ipython",
    "version": 3
   },
   "file_extension": ".py",
   "mimetype": "text/x-python",
   "name": "python",
   "nbconvert_exporter": "python",
   "pygments_lexer": "ipython3",
   "version": "3.13.7"
  }
 },
 "nbformat": 4,
 "nbformat_minor": 5
}
